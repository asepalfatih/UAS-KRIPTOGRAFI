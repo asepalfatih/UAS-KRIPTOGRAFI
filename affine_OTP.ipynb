{
  "nbformat": 4,
  "nbformat_minor": 0,
  "metadata": {
    "colab": {
      "provenance": [],
      "authorship_tag": "ABX9TyMl8GA3eRMlS1t6hrIdrcVh",
      "include_colab_link": true
    },
    "kernelspec": {
      "name": "python3",
      "display_name": "Python 3"
    },
    "language_info": {
      "name": "python"
    }
  },
  "cells": [
    {
      "cell_type": "markdown",
      "metadata": {
        "id": "view-in-github",
        "colab_type": "text"
      },
      "source": [
        "<a href=\"https://colab.research.google.com/github/asepalfatih/UAS-KRIPTOGRAFI/blob/main/affine_OTP.ipynb\" target=\"_parent\"><img src=\"https://colab.research.google.com/assets/colab-badge.svg\" alt=\"Open In Colab\"/></a>"
      ]
    },
    {
      "cell_type": "code",
      "execution_count": 2,
      "metadata": {
        "colab": {
          "base_uri": "https://localhost:8080/"
        },
        "id": "Jkr-t9-31xAe",
        "outputId": "445d78d5-d3ed-4d4d-b471-27c9109f8354"
      },
      "outputs": [
        {
          "output_type": "stream",
          "name": "stdout",
          "text": [
            "Original Text: Hello, World!\n",
            "Generated Key: (5, 25)\n",
            "Encrypted Text: Itccr, Frgco!\n",
            "Decrypted Text: Hello, World!\n"
          ]
        }
      ],
      "source": [
        "import random\n",
        "\n",
        "def gcd(a, b):\n",
        "    while b:\n",
        "        a, b = b, a % b\n",
        "    return a\n",
        "\n",
        "def mod_inverse(a, m):\n",
        "    for i in range(1, m):\n",
        "        if (a * i) % m == 1:\n",
        "            return i\n",
        "    return None\n",
        "\n",
        "def generate_keypair():\n",
        "    # Generate random values for a and b\n",
        "    a = random.randint(1, 26)\n",
        "    b = random.randint(1, 26)\n",
        "\n",
        "    # Ensure a and 26 are coprime\n",
        "    while gcd(a, 26) != 1:\n",
        "        a = random.randint(1, 26)\n",
        "\n",
        "    return a, b\n",
        "\n",
        "def encrypt(plain_text, key):\n",
        "    a, b = key\n",
        "    cipher_text = \"\"\n",
        "\n",
        "    for char in plain_text:\n",
        "        if char.isalpha():\n",
        "            # Encrypt each letter using the affine cipher formula: E(x) = (ax + b) mod 26\n",
        "            if char.isupper():\n",
        "                cipher_text += chr((a * (ord(char) - 65) + b) % 26 + 65)\n",
        "            else:\n",
        "                cipher_text += chr((a * (ord(char) - 97) + b) % 26 + 97)\n",
        "        else:\n",
        "            # Leave non-alphabetic characters unchanged\n",
        "            cipher_text += char\n",
        "\n",
        "    return cipher_text\n",
        "\n",
        "def decrypt(cipher_text, key):\n",
        "    a, b = key\n",
        "    inverse_a = mod_inverse(a, 26)\n",
        "    plain_text = \"\"\n",
        "\n",
        "    for char in cipher_text:\n",
        "        if char.isalpha():\n",
        "            # Decrypt each letter using the inverse affine cipher formula: D(x) = a^(-1)(x - b) mod 26\n",
        "            if char.isupper():\n",
        "                plain_text += chr((inverse_a * (ord(char) - 65 - b)) % 26 + 65)\n",
        "            else:\n",
        "                plain_text += chr((inverse_a * (ord(char) - 97 - b)) % 26 + 97)\n",
        "        else:\n",
        "            # Leave non-alphabetic characters unchanged\n",
        "            plain_text += char\n",
        "\n",
        "    return plain_text\n",
        "\n",
        "if __name__ == \"__main__\":\n",
        "    # Example usage\n",
        "    plaintext = \"Hello, World!\"\n",
        "    print(f\"Original Text: {plaintext}\")\n",
        "\n",
        "    # Generate key\n",
        "    key = generate_keypair()\n",
        "    print(f\"Generated Key: {key}\")\n",
        "\n",
        "    # Encrypt\n",
        "    ciphertext = encrypt(plaintext, key)\n",
        "    print(f\"Encrypted Text: {ciphertext}\")\n",
        "\n",
        "    # Decrypt\n",
        "    decrypted_text = decrypt(ciphertext, key)\n",
        "    print(f\"Decrypted Text: {decrypted_text}\")\n"
      ]
    }
  ]
}